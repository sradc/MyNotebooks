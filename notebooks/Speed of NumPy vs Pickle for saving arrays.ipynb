{
 "cells": [
  {
   "cell_type": "markdown",
   "metadata": {},
   "source": [
    "### Testing (informally) the speed of saving Numpy arrays with Numpy vs Pickle.\n",
    "\n",
    "Note that other processes on the system affect the measurements.\n",
    "\n",
    "##### Conclusion:\n",
    "\n",
    "For small to medium arrays, ~ (400, 400, 3) - (1080, 1080, 3), Pickle seemed to be slightly faster. (although measurement noise is relatively large, so I don't strongly trust these measurements).\n",
    "\n",
    "For larger arrays ~ (10000, 10000, 3), Numpy.save / Numpy.load was consistently somewhat faster.\n",
    "\n",
    "(I ran this on a Mid-2012 MacBook Pro 13, with an SSD)\n",
    "\n",
    "**WARNING**: the file size for an array of (10_000, 10_000, 3) is ~ 300MB. If unmodified, the code below creates two files of this size."
   ]
  },
  {
   "cell_type": "code",
   "execution_count": 1,
   "metadata": {},
   "outputs": [
    {
     "name": "stdout",
     "output_type": "stream",
     "text": [
      "np.version.version: 1.18.1\n",
      "pickle.format_version: 4.0\n",
      "sys.version: 3.7.3 (default, Mar 27 2019, 16:54:48) \n",
      "[Clang 4.0.1 (tags/RELEASE_401/final)]\n"
     ]
    }
   ],
   "source": [
    "import numpy as np\n",
    "import pickle\n",
    "import sys\n",
    "import os\n",
    "print('np.version.version:', np.version.version)\n",
    "print('pickle.format_version:', pickle.format_version)\n",
    "print('sys.version:', sys.version)"
   ]
  },
  {
   "cell_type": "code",
   "execution_count": 2,
   "metadata": {},
   "outputs": [],
   "source": [
    "FNAME = 'numpy_array_save_test'\n",
    "\n",
    "def generate_array(size):\n",
    "    return np.random.randint(0, 2**8-1 , size=size, dtype=np.uint8)\n",
    "\n",
    "def numpy_save(arr):\n",
    "    np.save(f'{FNAME}.npy', arr)\n",
    "\n",
    "def numpy_load():\n",
    "    with open(f\"{FNAME}.npy\", 'rb') as f:\n",
    "        arr = np.load(f)\n",
    "    return arr\n",
    "    \n",
    "def pickle_save(arr):\n",
    "    with open(f\"{FNAME}.pickle\", 'wb') as f:\n",
    "        pickle.dump(arr, f)\n",
    "\n",
    "def pickle_load():\n",
    "    with open(f\"{FNAME}.pickle\", 'rb') as f:\n",
    "        arr = pickle.load(f)\n",
    "    return arr"
   ]
  },
  {
   "cell_type": "code",
   "execution_count": 3,
   "metadata": {},
   "outputs": [
    {
     "name": "stdout",
     "output_type": "stream",
     "text": [
      "\n",
      "Array size: (400, 400, 3)\n",
      "\n",
      "numpy_save(arr):\n",
      "3.21 ms ± 404 µs per loop (mean ± std. dev. of 7 runs, 100 loops each)\n",
      "\n",
      "pickle_save(arr):\n",
      "2.65 ms ± 812 µs per loop (mean ± std. dev. of 7 runs, 1000 loops each)\n",
      "\n",
      "numpy_load():\n",
      "496 µs ± 30.2 µs per loop (mean ± std. dev. of 7 runs, 1000 loops each)\n",
      "\n",
      "pickle_load():\n",
      "148 µs ± 3.37 µs per loop (mean ± std. dev. of 7 runs, 10000 loops each)\n",
      "\n",
      "Array size: (1080, 1080, 3)\n",
      "\n",
      "numpy_save(arr):\n",
      "22.8 ms ± 190 µs per loop (mean ± std. dev. of 7 runs, 10 loops each)\n",
      "\n",
      "pickle_save(arr):\n",
      "11.5 ms ± 6 ms per loop (mean ± std. dev. of 7 runs, 10 loops each)\n",
      "\n",
      "numpy_load():\n",
      "1.21 ms ± 13.1 µs per loop (mean ± std. dev. of 7 runs, 1000 loops each)\n",
      "\n",
      "pickle_load():\n",
      "1.19 ms ± 9.2 µs per loop (mean ± std. dev. of 7 runs, 1000 loops each)\n",
      "\n",
      "Array size: (10000, 10000, 3)\n",
      "\n",
      "numpy_save(arr):\n",
      "1.66 s ± 431 ms per loop (mean ± std. dev. of 7 runs, 1 loop each)\n",
      "\n",
      "pickle_save(arr):\n",
      "2.46 s ± 601 ms per loop (mean ± std. dev. of 7 runs, 1 loop each)\n",
      "\n",
      "numpy_load():\n",
      "189 ms ± 5.56 ms per loop (mean ± std. dev. of 7 runs, 10 loops each)\n",
      "\n",
      "pickle_load():\n",
      "384 ms ± 14.9 ms per loop (mean ± std. dev. of 7 runs, 1 loop each)\n"
     ]
    }
   ],
   "source": [
    "ARRAY_LENGTH = [400, 1080, 10_000]\n",
    "\n",
    "for array_length in ARRAY_LENGTH:\n",
    "    \n",
    "    array_size = (array_length, array_length, 3)\n",
    "    arr = generate_array(array_size)\n",
    "\n",
    "    print('\\nArray size:', array_size)\n",
    "\n",
    "    print(\"\\nnumpy_save(arr):\")\n",
    "    %timeit numpy_save(arr)\n",
    "    \n",
    "    print(\"\\npickle_save(arr):\")\n",
    "    %timeit pickle_save(arr)\n",
    "\n",
    "    print(\"\\nnumpy_load():\")\n",
    "    %timeit numpy_load()\n",
    "    \n",
    "    print(\"\\npickle_load():\")\n",
    "    %timeit pickle_load()"
   ]
  },
  {
   "cell_type": "code",
   "execution_count": 4,
   "metadata": {},
   "outputs": [],
   "source": [
    "# Delete the files created by this notebook\n",
    "os.remove(f'{FNAME}.npy') \n",
    "os.remove(f\"{FNAME}.pickle\") "
   ]
  }
 ],
 "metadata": {
  "kernelspec": {
   "display_name": "Python [conda env:root] *",
   "language": "python",
   "name": "conda-root-py"
  },
  "language_info": {
   "codemirror_mode": {
    "name": "ipython",
    "version": 3
   },
   "file_extension": ".py",
   "mimetype": "text/x-python",
   "name": "python",
   "nbconvert_exporter": "python",
   "pygments_lexer": "ipython3",
   "version": "3.7.3"
  }
 },
 "nbformat": 4,
 "nbformat_minor": 4
}
