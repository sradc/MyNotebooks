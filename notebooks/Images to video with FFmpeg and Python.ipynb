{
 "cells": [
  {
   "cell_type": "markdown",
   "metadata": {},
   "source": [
    "# Images to video with FFmpeg and Python\n",
    "\n",
    "*Sidney Radcliffe | 29/06/2020*\n",
    "\n",
    "This notebook contains some examples of creating videos with FFmpeg and Python.\n",
    "\n",
    "Assumes [FFmpeg](https://ffmpeg.org/) is installed and in path (and up to date).\n",
    "\n",
    "### Example ffmpeg command:\n",
    "\n",
    "Turn a folder of images into a video: `ffmpeg -y -r 15 -i image_dir/%08d.jpg -r 30 out.mp4` (run from command line).\n",
    "\n",
    "- -y <- overwrite existing out.mp4.\n",
    "- left -r = input framerate.\n",
    "- right -r = output framerate.\n",
    "    - e.g. `-r 15 ... -r 30` means go through images at 15 per second, and put into video of 30 fps.\n",
    "- %08d.jpg <- expect images to be named as 00000000.jpg, 00000001.jpg, ... (8 digits).\n",
    "- out.mp4 <- sets output video filename and filetype\n",
    "\n",
    "Images should be of same size. Width and height should be an even number of pixels.\n",
    "Uses default encoding settings.\n",
    "\n",
    "# Examples with Python:"
   ]
  },
  {
   "cell_type": "code",
   "execution_count": 1,
   "metadata": {},
   "outputs": [],
   "source": [
    "import numpy as np\n",
    "from PIL import Image\n",
    "import matplotlib.pyplot as plt\n",
    "import subprocess, pathlib, shutil\n",
    "from magic_timer import MagicTimer"
   ]
  },
  {
   "cell_type": "code",
   "execution_count": 2,
   "metadata": {},
   "outputs": [
    {
     "data": {
      "image/png": "[encoded data removed]",
      "text/plain": [
       "<PIL.Image.Image image mode=RGB size=200x200 at 0x2565977B160>"
      ]
     },
     "metadata": {},
     "output_type": "display_data"
    }
   ],
   "source": [
    "def create_image(w=20, h=20):\n",
    "    return np.random.random((w, h, 3))\n",
    "\n",
    "def numpy_to_pil(array): # array.shape=(w,h,3), range=0-1\n",
    "    return Image.fromarray(np.uint8(array*255))\n",
    "\n",
    "im = create_image()\n",
    "im = numpy_to_pil(im).resize((200, 200))\n",
    "display(im)"
   ]
  },
  {
   "cell_type": "code",
   "execution_count": 3,
   "metadata": {},
   "outputs": [],
   "source": [
    "# Create directory to dump videos in:\n",
    "pathlib.Path('dump/').mkdir(parents=True, exist_ok=True)"
   ]
  },
  {
   "cell_type": "markdown",
   "metadata": {},
   "source": [
    "### Warning: the videos created here contain flashing images.\n",
    "\n",
    "## Example 1: Save images to disk, create video, delete images."
   ]
  },
  {
   "cell_type": "code",
   "execution_count": 4,
   "metadata": {},
   "outputs": [
    {
     "name": "stdout",
     "output_type": "stream",
     "text": [
      "Created video in 9.8 seconds.\n"
     ]
    }
   ],
   "source": [
    "t = MagicTimer()\n",
    "IMAGE_DIR = pathlib.Path('tmp_images_for_ffmpeg/')\n",
    "IMAGE_DIR.mkdir(parents=True, exist_ok=True)\n",
    "for i in range(333):\n",
    "    im = create_image()\n",
    "    image = numpy_to_pil(im).resize((1280, 720))\n",
    "    image.save(IMAGE_DIR / f'{i:08d}.jpg')\n",
    "command = ['ffmpeg', '-y', '-r', '30', '-i', f'{IMAGE_DIR}/%08d.jpg', \n",
    "           '-r', '30', 'dump/out_from_images.mp4']\n",
    "subprocess.run(command)\n",
    "shutil.rmtree(IMAGE_DIR)  # delete images\n",
    "print(f'Created video in {t}.')"
   ]
  },
  {
   "cell_type": "markdown",
   "metadata": {},
   "source": [
    "## Example 2: Stream directly to video.\n",
    "\n",
    "Modified from: https://stackoverflow.com/a/13298538/4572034."
   ]
  },
  {
   "cell_type": "code",
   "execution_count": 5,
   "metadata": {},
   "outputs": [
    {
     "name": "stdout",
     "output_type": "stream",
     "text": [
      "Created video in 7.6 seconds.\n"
     ]
    }
   ],
   "source": [
    "t = MagicTimer()\n",
    "command = ['ffmpeg', '-y', '-f', 'image2pipe', \n",
    "           '-r', '30', '-i', '-', '-r', '30', 'dump/out_from_stream.mp4']\n",
    "p = subprocess.Popen(command, stdin=subprocess.PIPE)\n",
    "for i in range(333):\n",
    "    im = create_image()\n",
    "    image = numpy_to_pil(im).resize((1280, 720))\n",
    "    image.save(p.stdin, 'JPEG')\n",
    "p.stdin.close()\n",
    "p.wait()\n",
    "print(f'Created video in {t}.')"
   ]
  },
  {
   "cell_type": "markdown",
   "metadata": {},
   "source": [
    "It may be worth saving images (and not deleting) if might later change rate / fps / size / quality.\n",
    "\n",
    "## Example 2b: Using a context manager.\n",
    "\n",
    "Seems neater if want to do this more than once.\n",
    "\n",
    "https://book.pythontips.com/en/latest/context_managers.html#implementing-a-context-manager-as-a-generator"
   ]
  },
  {
   "cell_type": "code",
   "execution_count": 6,
   "metadata": {},
   "outputs": [],
   "source": [
    "from contextlib import contextmanager\n",
    "\n",
    "@contextmanager\n",
    "def steam_video(rate_in='30', out_fps='30', out='out.mp4'):\n",
    "    command = ['ffmpeg', '-y', '-f', 'image2pipe', \n",
    "               '-r', rate_in, '-i', '-', '-r', out_fps, out]\n",
    "    p = subprocess.Popen(command, stdin=subprocess.PIPE)\n",
    "    try:\n",
    "        yield p.stdin\n",
    "    finally:\n",
    "        p.stdin.close()\n",
    "        p.wait()"
   ]
  },
  {
   "cell_type": "code",
   "execution_count": 7,
   "metadata": {},
   "outputs": [
    {
     "name": "stdout",
     "output_type": "stream",
     "text": [
      "Created video in 7.5 seconds.\n"
     ]
    }
   ],
   "source": [
    "t = MagicTimer()\n",
    "with steam_video(out='dump/out_from_stream.mp4') as stdin:\n",
    "    for i in range(333):\n",
    "        im = create_image()\n",
    "        image = numpy_to_pil(im).resize((1280, 720))\n",
    "        image.save(stdin, 'JPEG')\n",
    "print(f'Created video in {t}.')"
   ]
  },
  {
   "cell_type": "markdown",
   "metadata": {},
   "source": [
    "## Example 2c: with matplotlib (naively)"
   ]
  },
  {
   "cell_type": "code",
   "execution_count": 8,
   "metadata": {},
   "outputs": [
    {
     "name": "stdout",
     "output_type": "stream",
     "text": [
      "Created video in 20 seconds.\n"
     ]
    }
   ],
   "source": [
    "t = MagicTimer()\n",
    "tvals = np.linspace(0, 2*np.pi, 1000)\n",
    "with steam_video(out='dump/sine_wave_streamed.mp4') as stdin:\n",
    "    for i in range(333):\n",
    "        wave = np.sin(tvals + i / 10)\n",
    "        plt.plot(wave)\n",
    "        plt.savefig(stdin, format='jpg')\n",
    "        plt.clf()\n",
    "plt.close()\n",
    "print(f'Created video in {t}.')"
   ]
  },
  {
   "cell_type": "markdown",
   "metadata": {},
   "source": [
    "## Example 2c: with matplotlib, using set_ydata"
   ]
  },
  {
   "cell_type": "code",
   "execution_count": 9,
   "metadata": {},
   "outputs": [
    {
     "name": "stdout",
     "output_type": "stream",
     "text": [
      "Created video in 9.0 seconds.\n"
     ]
    }
   ],
   "source": [
    "t = MagicTimer()\n",
    "tvals = np.linspace(0, 2*np.pi, 1000)\n",
    "fig, ax = plt.subplots(1)\n",
    "with steam_video(out='dump/sine_wave_streamed.mp4') as stdin:\n",
    "    for i in range(333):\n",
    "        wave = np.sin(tvals + i / 10)\n",
    "        try:\n",
    "            line.set_ydata(wave)\n",
    "        except NameError:\n",
    "            line, = ax.plot(wave)\n",
    "        plt.savefig(stdin, format='jpg')\n",
    "del line\n",
    "plt.close()\n",
    "print(f'Created video in {t}.')"
   ]
  }
 ],
 "metadata": {
  "kernelspec": {
   "display_name": "Python 3",
   "language": "python",
   "name": "python3"
  },
  "language_info": {
   "codemirror_mode": {
    "name": "ipython",
    "version": 3
   },
   "file_extension": ".py",
   "mimetype": "text/x-python",
   "name": "python",
   "nbconvert_exporter": "python",
   "pygments_lexer": "ipython3",
   "version": "3.7.3"
  }
 },
 "nbformat": 4,
 "nbformat_minor": 2
}
